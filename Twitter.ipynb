{
 "cells": [
  {
   "cell_type": "code",
   "execution_count": 4,
   "metadata": {},
   "outputs": [],
   "source": [
    "import tweepy as tp\n",
    "import pandas as pd"
   ]
  },
  {
   "cell_type": "code",
   "execution_count": 5,
   "metadata": {},
   "outputs": [],
   "source": [
    "client = tp.Client(bearer_token='AAAAAAAAAAAAAAAAAAAAALk%2FfwEAAAAAyyPllsI8G9az930xQTq%2BnUHRqDE%3D9YFn5iH0S00jut1z1rRxdqM1sM0m19bLf3AFA8evwfKlmsOJPS')"
   ]
  },
  {
   "cell_type": "code",
   "execution_count": 52,
   "metadata": {},
   "outputs": [],
   "source": [
    "query = '#audi -is:retweet lang:en'\n",
    "tweets = client.search_recent_tweets(query=query, tweet_fields=['context_annotations', 'created_at'], max_results=10)"
   ]
  },
  {
   "cell_type": "code",
   "execution_count": 59,
   "metadata": {
    "scrolled": true
   },
   "outputs": [],
   "source": [
    "splitted = str(tweets)\n",
    "split = splitted.split('\\\\n')"
   ]
  },
  {
   "cell_type": "code",
   "execution_count": 65,
   "metadata": {},
   "outputs": [
    {
     "data": {
      "text/plain": [
       "['Response(data=[<Tweet id=1557387368616837120 text=\"#autoscouteurope #europecars #cars #Audi  #A6',\n",
       " \"𝗦𝗔𝗟𝗘  - Audi A6 Station wagon in Black used in Scorze' - Venezia - Ve for € 44,500.-\",\n",
       " 'Location: Italy',\n",
       " 'Year: 2020',\n",
       " 'Power: 150KW (204HP)',\n",
       " 'Mileage: 34,500 km',\n",
       " 'Fuel type: Electricity',\n",
       " 'Price: 44500 EUR',\n",
       " 'https://t.co/3YbTv3eszW\">, <Tweet id=1557386809960792064 text=\\'#autoscouteurope #europecars #cars #Audi  #S6',\n",
       " '𝗦𝗔𝗟𝗘  - Audi from € 85,990.-',\n",
       " 'Location: ',\n",
       " 'Year: 2021',\n",
       " 'Power: 257KW (349HP)',\n",
       " 'Mileage: 22,600 km',\n",
       " 'Fuel type: Diesel (Particle filter)',\n",
       " 'Price: 85990 EUR',\n",
       " \"https://t.co/Obz7WaWw8S'>, <Tweet id=1557386502912581632 text='#autoscouteurope #europecars #cars #Audi  #RS6\",\n",
       " '𝗦𝗔𝗟𝗘  - Audi from € 114,790.-',\n",
       " 'Location: ',\n",
       " 'Year: 2020',\n",
       " 'Power: 448KW (609HP)',\n",
       " 'Mileage: 77,500 km',\n",
       " 'Fuel type: Gasoline',\n",
       " 'Price: 114790 EUR',\n",
       " \"https://t.co/OpqZIifqrX'>, <Tweet id=1557386279754637320 text='#autoscouteurope #europecars #cars #Audi  #RS4\",\n",
       " '𝗦𝗔𝗟𝗘  - Audi RS4 Station wagon in Blue used in CHATEL for € 75,000.-',\n",
       " 'Location: 74390',\n",
       " 'Year: 2001',\n",
       " 'Power: 279KW (379HP)',\n",
       " 'Mileage: 166,000 km',\n",
       " 'Fuel type: Gasoline',\n",
       " 'Price: 75000 EUR',\n",
       " \"https://t.co/lszpcUzPWM'>, <Tweet id=1557386067380142081 text='#autoscouteurope #europecars #cars #Audi  #A7\",\n",
       " '𝗦𝗔𝗟𝗘  - Audi from € 68,900.-',\n",
       " 'Location: ',\n",
       " 'Year: 2019',\n",
       " 'Power: 254KW (345HP)',\n",
       " 'Mileage: 57,590 km',\n",
       " 'Fuel type: Electricity',\n",
       " 'Price: 68900 EUR',\n",
       " \"https://t.co/Y802GbmMx9'>, <Tweet id=1557386003660283904 text='#AUDI A3 - 2018 - 77352 km. for more information visit https://t.co/50LukzQ5Mj https://t.co/KK7A0t3PXK'>, <Tweet id=1557385665465262084 text='#autoscouteurope #europecars #cars #Audi  #Q3\",\n",
       " '𝗦𝗔𝗟𝗘  - Audi from € 65,790.-',\n",
       " 'Location: ',\n",
       " 'Year: 2022',\n",
       " 'Power: 183KW (249HP)',\n",
       " 'Mileage: 1,200 km',\n",
       " 'Fuel type: Gasoline',\n",
       " 'Price: 65790 EUR',\n",
       " \"https://t.co/AWXOYBUJ6H'>, <Tweet id=1557385558296518657 text='#AUDI S3 - 2014 - 81500 km. for more information visit https://t.co/22Ocsnau46 https://t.co/OQtiDnlels'>, <Tweet id=1557382798096343042 text='Someone told me “it’s a lambo in a business suit” \",\n",
       " '',\n",
       " '💎Learn more about trading through our free telegram &amp; discord (Link in bio @Nickdarcfx__)',\n",
       " '',\n",
       " '#supercars #audir8 #r8spyder #audirs #audi',\n",
       " '#audifans #audilovers #horsepowerfreaks',\n",
       " '#germancars #twinturbos #turbolife',\n",
       " \"#carfanatic https://t.co/dQdjbbryNq'>, <Tweet id=1557381963840880641 text='#autoscouteurope #europecars #cars #Audi  #RS3\",\n",
       " '𝗦𝗔𝗟𝗘  - Audi RS3 Station wagon in Grey used in Kierspe for € 48,900.-',\n",
       " 'Location: North Rhine-Westphalia',\n",
       " 'Year: 2017',\n",
       " 'Power: 294KW (400HP)',\n",
       " 'Mileage: 53,500 km',\n",
       " 'Fuel type: Super Plus 98',\n",
       " 'Price: 48900 EUR',\n",
       " \"https://t.co/CF45QrjZGv'>], includes={}, errors=[], meta={'newest_id': '1557387368616837120', 'oldest_id': '1557381963840880641', 'result_count': 10, 'next_token': 'b26v89c19zqg8o3fpz5n2c4qmctmb764lqf2lpy1eoeil'})\"]"
      ]
     },
     "execution_count": 65,
     "metadata": {},
     "output_type": "execute_result"
    }
   ],
   "source": [
    "split"
   ]
  },
  {
   "cell_type": "code",
   "execution_count": 64,
   "metadata": {},
   "outputs": [
    {
     "data": {
      "text/plain": [
       "64"
      ]
     },
     "execution_count": 64,
     "metadata": {},
     "output_type": "execute_result"
    }
   ],
   "source": [
    "len(split)"
   ]
  },
  {
   "cell_type": "code",
   "execution_count": 67,
   "metadata": {
    "scrolled": true
   },
   "outputs": [
    {
     "data": {
      "text/plain": [
       "'Location: Italy'"
      ]
     },
     "execution_count": 67,
     "metadata": {},
     "output_type": "execute_result"
    }
   ],
   "source": [
    "split[1]\n",
    "split[2]"
   ]
  },
  {
   "cell_type": "code",
   "execution_count": 68,
   "metadata": {},
   "outputs": [
    {
     "data": {
      "text/plain": [
       "tweepy.client.Response"
      ]
     },
     "execution_count": 68,
     "metadata": {},
     "output_type": "execute_result"
    }
   ],
   "source": [
    "type(tweets)"
   ]
  }
 ],
 "metadata": {
  "kernelspec": {
   "display_name": "Python 3",
   "language": "python",
   "name": "python3"
  },
  "language_info": {
   "codemirror_mode": {
    "name": "ipython",
    "version": 3
   },
   "file_extension": ".py",
   "mimetype": "text/x-python",
   "name": "python",
   "nbconvert_exporter": "python",
   "pygments_lexer": "ipython3",
   "version": "3.7.4"
  }
 },
 "nbformat": 4,
 "nbformat_minor": 2
}
